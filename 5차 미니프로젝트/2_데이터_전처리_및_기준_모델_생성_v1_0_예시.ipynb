{
  "cells": [
    {
      "cell_type": "markdown",
      "metadata": {
        "id": "H6LUHxPKGLQS"
      },
      "source": [
        "### **■ 유통 판매량 예측 및 재고 최적화**\n",
        "# **단계 2: 모델링을 위한 데이터 전처리**"
      ]
    },
    {
      "cell_type": "markdown",
      "metadata": {
        "id": "8SrCEOo4GLQU"
      },
      "source": [
        "<img src = \"https://github.com/Jangrae/img/blob/master/store.png?raw=true\" width=800, align=\"left\"/>"
      ]
    },
    {
      "cell_type": "markdown",
      "metadata": {
        "id": "mJlY5pHkC2AM",
        "tags": []
      },
      "source": [
        "# **⏰ 수행 과제**\n",
        "\n",
        "다음과 같은 과정으로 프로젝트를 진행합니다.\n",
        "\n",
        "#### **1. 환경 설정**\n",
        "- 이후 진행에 필요한 환경 설정을 수행합니다.\n",
        "\n",
        "#### **2. 데이터 셋 구성하기 #1**\n",
        "- 44번 매장의 데이터만을 대상으로 합니다.\n",
        "- 대표 상품(3, 12, 42) 데이터만을 대상으로 합니다.\n",
        "- 상품별로 데이터셋을 각각 구성해야 합니다.\n",
        "\n",
        "#### **3. 1차 모델링**\n",
        "- Linear Regression 알고리즘을 사용해 모델링합니다.\n",
        "- 모델의 검증 성능을 평가하고 기록합니다.\n",
        "\n",
        "#### **4. 데이터 셋 구성하기 #2**\n",
        "- 모델의 성능을 높이기 위해 의미있는 변수를 추가합니다.\n",
        "- 상품코드 별로 각각 데이터셋을 구성해야 합니다.\n",
        "- 상품별 데이터 셋 이름은 다음과 같이 통일합니다.\n",
        "\n",
        "#### **5. 2차 모델링**\n",
        "- Linear Regression 알고리즘으로 다시 모델링합니다.\n",
        "- 모델 성능을 높이기 위해 적절한 변수를 추가합니다.\n",
        "- 데이터 셋에 변화를 주면서 변화되는 성능을 기록하고 비교합니다.\n",
        "\n",
        "#### **6. 3차 모델링**\n",
        "- Random Forest, LightGBM 알고리즘으로 모델링하고 성능을 기록합니다.\n",
        "- 하이퍼파라미터 튜닝은 하지 않습니다(모든 파라미터 기본값 사용).\n",
        "- 우선 Linear Regression 모델보다 성능이 좋은지 비교하는 데 의미를 둡니다.\n",
        "\n",
        "#### **7. 데이터 저장**\n",
        "- 이후 실습을 위해 최종 구성된 데이터프레임을 파일로 저장합니다."
      ]
    },
    {
      "cell_type": "markdown",
      "metadata": {
        "id": "NCptKiLOAn7l"
      },
      "source": [
        "# **1. 환경 설정**\n",
        "\n",
        "- 이후 진행에 필요한 환경 설정을 수행합니다."
      ]
    },
    {
      "cell_type": "markdown",
      "metadata": {
        "id": "6qsy44YpolGu"
      },
      "source": [
        "## **(1) 경로 설정**\n",
        "\n",
        "- 프로젝트 수행 환경에 맞게 파일 경로를 설정합니다."
      ]
    },
    {
      "cell_type": "markdown",
      "metadata": {
        "id": "gklxNfgNpkls"
      },
      "source": [
        "### **1) 로컬 수행(Anaconda)**\n",
        "- project 폴더에 필요한 파일들을 넣고, 본 파일을 열었다면, 별도 경로 지정이 필요하지 않습니다."
      ]
    },
    {
      "cell_type": "code",
      "execution_count": null,
      "metadata": {
        "id": "PNI6X2yxpkls",
        "tags": []
      },
      "outputs": [],
      "source": [
        "# 기본 경로\n",
        "path = ''"
      ]
    },
    {
      "cell_type": "markdown",
      "metadata": {
        "id": "rbGjNIkJTGkR"
      },
      "source": [
        "### **2) 구글 콜랩 수행**\n",
        "\n",
        "- 구글 콜랩을 사용중이면 구글 드라이브를 연결합니다."
      ]
    },
    {
      "cell_type": "code",
      "execution_count": null,
      "metadata": {
        "id": "9cCiylt1TGkj",
        "tags": []
      },
      "outputs": [],
      "source": [
        "# 구글 드라이브 연결, 패스 지정\n",
        "import sys\n",
        "if 'google.colab' in sys.modules:\n",
        "    from google.colab import drive\n",
        "    drive.mount('/content/drive')\n",
        "    path = '/content/drive/MyDrive/project/'"
      ]
    },
    {
      "cell_type": "markdown",
      "metadata": {
        "id": "szLW_muKtxqT"
      },
      "source": [
        "## **(2) 라이브러리 불러오기**\n",
        "\n",
        "- 이후 사용할 라이브러리를 모두 불러옵니다."
      ]
    },
    {
      "cell_type": "code",
      "execution_count": null,
      "metadata": {
        "id": "Aj4I06BetxqU",
        "tags": []
      },
      "outputs": [],
      "source": [
        "# 라이브러리 불러오기\n",
        "import pandas as pd\n",
        "import numpy as np\n",
        "import matplotlib.pyplot as plt\n",
        "import seaborn as sns\n",
        "\n",
        "import joblib\n",
        "\n",
        "from sklearn.metrics import *\n",
        "from sklearn.model_selection import train_test_split\n",
        "from sklearn.linear_model import LinearRegression\n",
        "from sklearn.ensemble import RandomForestRegressor\n",
        "from lightgbm import LGBMRegressor\n",
        "\n",
        "import warnings\n",
        "warnings.filterwarnings('ignore')\n",
        "%config InlineBackend.figure_format = 'retina'"
      ]
    },
    {
      "cell_type": "markdown",
      "metadata": {
        "id": "xlxki4ruGLQc"
      },
      "source": [
        "- 모델이 예측한 결과를 시각화할 때 다음 함수를 활용합니다."
      ]
    },
    {
      "cell_type": "code",
      "execution_count": null,
      "metadata": {
        "id": "OFHS8AfNGLQd",
        "tags": []
      },
      "outputs": [],
      "source": [
        "# 함수 만들기\n",
        "def plot_model_result(y_train, y_val, y_pred):\n",
        "\n",
        "    y_train = pd.Series(y_train)\n",
        "    y_val = pd.Series(y_val)\n",
        "    y_val.index = range(len(y_train), len(y_train) + len(y_val))\n",
        "\n",
        "    y_pred = pd.Series(y_pred.reshape(-1,), index=y_val.index)\n",
        "\n",
        "    # 전체 시각화\n",
        "    plt.figure(figsize=(12, 5))\n",
        "    plt.subplot(2,1,1)\n",
        "    plt.plot(y_train, label='y_train', color='tab:blue')\n",
        "    plt.plot(y_val, label='y_val', color='tab:green')\n",
        "    plt.plot(y_pred, label='y_pred', color='tab:orange')\n",
        "    plt.legend()\n",
        "    plt.subplot(2,1,2)\n",
        "    plt.plot(y_val, label = 'y_val', color='tab:green')\n",
        "    plt.plot(y_pred, label = 'y_pred', color='tab:orange')\n",
        "    plt.legend()\n",
        "    plt.tight_layout()\n",
        "    plt.show()"
      ]
    },
    {
      "cell_type": "markdown",
      "metadata": {
        "id": "dPfPWkG1txqV"
      },
      "source": [
        "## **(3) 데이터 불러오기**\n",
        "\n",
        "- 이후 분석 대상이 되는 파일을 불러오고 기본 정보를 확인합니다."
      ]
    },
    {
      "cell_type": "markdown",
      "metadata": {
        "id": "fmgUEGOipvG5"
      },
      "source": [
        "### **1) 데이터 불러오기**\n",
        "\n",
        "- 분석 대상 데이터를 불러옵니다.\n",
        "- 데이터프레임 이름은 다음과 같이 통일합니다.\n",
        "    - sales: 판매 정보\n",
        "    - orders: 고객 방문수\n",
        "    - oil_price: 휘발유 가격\n",
        "    - stores: 매장 정보\n",
        "    - products: 상품 정보\n",
        "- 날짜 데이터를 갖는 Date 변수는 편의를 위해 datetime 형으로 변경합니다."
      ]
    },
    {
      "cell_type": "code",
      "execution_count": null,
      "metadata": {
        "id": "ZpMoNMpcQoQ5",
        "tags": []
      },
      "outputs": [],
      "source": [
        "# 데이터 불러오기\n",
        "sales = pd.read_csv(path + 'sales_train.csv')\n",
        "orders = pd.read_csv(path + 'orders_train.csv')\n",
        "oil_price = pd.read_csv(path + 'oil_price_train.csv')\n",
        "stores = pd.read_csv(path + 'stores.csv')\n",
        "products = pd.read_csv(path + 'products.csv')"
      ]
    },
    {
      "cell_type": "code",
      "execution_count": null,
      "metadata": {
        "id": "tljzr_jXjc9G"
      },
      "outputs": [],
      "source": [
        "# datetime 형으로 변환\n",
        "sales['Date'] = pd.to_datetime(sales['Date'] )\n",
        "oil_price['Date'] = pd.to_datetime(oil_price['Date'] )\n",
        "orders['Date'] = pd.to_datetime(orders['Date'] )"
      ]
    },
    {
      "cell_type": "markdown",
      "metadata": {
        "id": "aI7qJqz3pr3m"
      },
      "source": [
        "### **2) 기본 정보 확인**\n",
        "\n",
        "- 각 데이터의 기본 정보를 확인합니다."
      ]
    },
    {
      "cell_type": "code",
      "execution_count": null,
      "metadata": {
        "id": "Xb92_ssRvttf",
        "tags": []
      },
      "outputs": [],
      "source": [
        "# sales\n",
        "sales.head()"
      ]
    },
    {
      "cell_type": "code",
      "execution_count": null,
      "metadata": {
        "id": "d7g4VEKzGLQZ",
        "tags": []
      },
      "outputs": [],
      "source": [
        "# orders\n",
        "orders.head()"
      ]
    },
    {
      "cell_type": "code",
      "execution_count": null,
      "metadata": {
        "id": "LZbK10YoGLQZ",
        "tags": []
      },
      "outputs": [],
      "source": [
        "# oil_price\n",
        "oil_price.head()"
      ]
    },
    {
      "cell_type": "code",
      "execution_count": null,
      "metadata": {
        "id": "-BEFqYqKvlR1",
        "tags": []
      },
      "outputs": [],
      "source": [
        "# products\n",
        "products.head()"
      ]
    },
    {
      "cell_type": "code",
      "execution_count": null,
      "metadata": {
        "id": "XZud1wyOGLQa",
        "tags": []
      },
      "outputs": [],
      "source": [
        "# stores\n",
        "stores.head()"
      ]
    },
    {
      "cell_type": "markdown",
      "metadata": {
        "id": "wcSokv_rvG-R"
      },
      "source": [
        "# **2. 데이터 셋 구성하기 #1**\n",
        "\n",
        "- 44번 매장의 데이터만을 대상으로 합니다.\n",
        "- 대표 상품(3, 12, 42) 데이터만을 대상으로 합니다.\n",
        "- 상품별로 데이터셋을 각각 구성해야 합니다.\n",
        "- 상품별 데이터프레임 이름은 다음과 같이 통일합니다.\n",
        "    - data03: 3번 상품 데이터 셋\n",
        "    - data12: 12번 상품 데이터 셋\n",
        "    - data42: 42번 상품 데이터 셋\n",
        "- 우선 다음과 같은 변수만을 갖는 기본 데이터 셋을 구성합니다.\n",
        "    - Date: 날짜\n",
        "    - Qty: 판매량\n",
        "    - CustomerCount: 고객 방문수\n",
        "    - WeekDay: 요일(Monday ~ Sunday)\n",
        "    - Month: 월(1 ~ 12)\n",
        "    - WTI_Price: 최근 14일 동안의 휘발유 가격 평균\n",
        "    - Target: 예측해야 하는 판매량\n",
        "- 참고: 요일과 월은 다음 형태로 얻을 수 있습니다.\n",
        "\n",
        "~~~\n",
        "df['요일'] = df['날짜'].dt.day_name()\n",
        "df['월'] = df['날짜'].dt.month\n",
        "~~~\n",
        "\n",
        "- 참고: 최근 14일 간의 가격 평균은 다음 형태로 얻을 수 있습니다.\n",
        "\n",
        "~~~\n",
        "df['가격'].rolling(14, min_periods=1).mean()\n",
        "~~~\n",
        "- Target 즉, 예측해야 하는 판매량은 상품의 LeadTime 이후의 판매량입니다.\n",
        "- 예를 들어 5월 2일, 상품 LeadTIme이 2이면 5월 4일 판매량이 예측해야 하는 판매량입니다."
      ]
    },
    {
      "cell_type": "code",
      "execution_count": null,
      "metadata": {
        "id": "NUt14WiBQSLa",
        "tags": []
      },
      "outputs": [],
      "source": [
        "# 함수 만들기\n",
        "def make_dataset_01(Product_ID):\n",
        "\n",
        "    # 1. 기본 데이터 준비\n",
        "    leadtime = products.loc[products['Product_ID']==Product_ID, 'LeadTime'].values[0]\n",
        "    temp1 = sales.loc[(sales['Store_ID']==44) & (sales['Product_ID']==Product_ID), ['Date', 'Qty']]\n",
        "    temp2 = orders.loc[orders['Store_ID']==44, ['Date', 'CustomerCount']]\n",
        "    temp3 = pd.merge(temp1, temp2, on='Date', how='left')\n",
        "\n",
        "    # 2. Feature Engineering\n",
        "    # 날짜 요소 추출\n",
        "    temp3['WeekDay'] = temp3['Date'].dt.day_name()\n",
        "    temp3['Month'] = temp3['Date'].dt.month\n",
        "\n",
        "    # Oil Price\n",
        "    temp3 = pd.merge(temp3, oil_price, on='Date', how='left')\n",
        "    temp3['WTI_Price'] = temp3['WTI_Price'].rolling(14, min_periods=1).mean()\n",
        "\n",
        "    # 3. Target 추가\n",
        "    temp3['Target'] = temp3['Qty'].shift(-leadtime)\n",
        "\n",
        "    # 결측치 처리\n",
        "    temp3.interpolate(method='linear', inplace=True)\n",
        "    temp3.fillna(method='bfill', inplace=True)\n",
        "    return temp3"
      ]
    },
    {
      "cell_type": "markdown",
      "metadata": {
        "id": "eTUyaUHSiHpl"
      },
      "source": [
        "## **(1) 상품: 3 - Beverage**\n",
        "\n",
        "- 3번 상품 데이터 셋을 구성합니다.\n",
        "- 데이터프레임 이름은 **data03**으로 합니다."
      ]
    },
    {
      "cell_type": "code",
      "execution_count": null,
      "metadata": {
        "id": "yYb9pSwWQSI1",
        "tags": []
      },
      "outputs": [],
      "source": [
        "# 3번 상품\n",
        "data03 = make_dataset_01(3)\n",
        "data03.head()"
      ]
    },
    {
      "cell_type": "markdown",
      "metadata": {
        "id": "COLb3rbfiQo9"
      },
      "source": [
        "## **(2) 상품: 12 - Milk**\n",
        "\n",
        "- 12번 상품 데이터 셋을 구성합니다.\n",
        "- 데이터프레임 이름은 **data012**으로 합니다."
      ]
    },
    {
      "cell_type": "code",
      "execution_count": null,
      "metadata": {
        "id": "WCes5OcBiQo-",
        "tags": []
      },
      "outputs": [],
      "source": [
        "# 12번 상품\n",
        "data12 = make_dataset_01(12)\n",
        "data12.head()"
      ]
    },
    {
      "cell_type": "markdown",
      "metadata": {
        "id": "8ATf7_BbiQ_D"
      },
      "source": [
        "## **(3) 상품: 42 - Agricultural products**\n",
        "\n",
        "- 42번 상품 데이터 셋을 구성합니다.\n",
        "- 데이터프레임 이름은 **data42**으로 합니다."
      ]
    },
    {
      "cell_type": "code",
      "execution_count": null,
      "metadata": {
        "id": "aVZXSZ9FiQ_E",
        "tags": []
      },
      "outputs": [],
      "source": [
        "# 42번 상품\n",
        "data42 = make_dataset_01(42)\n",
        "data42.head()"
      ]
    },
    {
      "cell_type": "markdown",
      "metadata": {
        "id": "7g8b9fpRkiwq"
      },
      "source": [
        "# **3. 1차 모델링: 기준 모델**\n",
        "\n",
        "- Linear Regression 알고리즘을 사용해 모델링합니다.\n",
        "- **검증용 데이터**는 학습용 데이터에서 **최근 120일간**의 데이터를 사용합니다.\n",
        "- 모델링 과정에서 변수 이름은 **x_train, x_val, y_train, y_val, y_pred**을 사용합니다.\n",
        "- 모델의 검증 성능을 평가하고 기록합니다."
      ]
    },
    {
      "cell_type": "code",
      "execution_count": null,
      "metadata": {
        "id": "fr4hk0P9ySPx",
        "tags": []
      },
      "outputs": [],
      "source": [
        "# 함수 만들기\n",
        "def preproc(data):\n",
        "    # x, y 분리\n",
        "    target = 'Target'\n",
        "    x = data.drop(['Date', target], axis=1)\n",
        "    y = data.loc[:, target]\n",
        "\n",
        "    # 가변수화\n",
        "    weekdays = ['Monday', 'Tuesday', 'Wednesday','Thursday', 'Friday', 'Saturday', 'Sunday']\n",
        "    months = [1, 2, 3, 4, 5, 6, 7, 8, 9, 10, 11, 12]\n",
        "    x['WeekDay'] = pd.Categorical(x['WeekDay'], categories=weekdays)\n",
        "    x['Month'] = pd.Categorical(x['Month'], categories=months)\n",
        "    x = pd.get_dummies(x, columns=['WeekDay','Month'], dtype=int)\n",
        "\n",
        "    # 학습용, 검증용 분할\n",
        "    x_train, x_val, y_train, y_val = train_test_split(x, y, test_size=120, shuffle=False)\n",
        "\n",
        "    return x_train, x_val, y_train, y_val"
      ]
    },
    {
      "cell_type": "markdown",
      "metadata": {
        "id": "UCwmQcehv8Xn"
      },
      "source": [
        "## **(1) 상품: 3 - Beverage**\n",
        "\n",
        "- 3번 상품에 대해 모델링하고 성능을 평가합니다.\n",
        "- 모델 이름은 **model03_lin**로 합니다."
      ]
    },
    {
      "cell_type": "code",
      "execution_count": null,
      "metadata": {
        "id": "Rg0ZamSnx6lv",
        "tags": []
      },
      "outputs": [],
      "source": [
        "# 데이터 준비\n",
        "x_train, x_val, y_train, y_val = preproc(data03)\n",
        "\n",
        "# 선언하기\n",
        "model03_lin = LinearRegression()\n",
        "\n",
        "# 학습하기\n",
        "model03_lin.fit(x_train, y_train)\n",
        "\n",
        "# 예측하기\n",
        "y_pred = model03_lin.predict(x_val)\n",
        "\n",
        "# 평가하기\n",
        "print('RMSE:', mean_squared_error(y_val, y_pred, squared=False))\n",
        "print('MAE:', mean_absolute_error(y_val, y_pred))\n",
        "print('MAPE:', mean_absolute_percentage_error(y_val, y_pred))\n",
        "print('R2:', r2_score(y_val, y_pred))"
      ]
    },
    {
      "cell_type": "markdown",
      "metadata": {
        "id": "5UGARMM2jc9H"
      },
      "source": [
        "- 모델이 예측한 결과를 시각화해 확인합니다."
      ]
    },
    {
      "cell_type": "code",
      "execution_count": null,
      "metadata": {
        "id": "58dM788tNB3g",
        "tags": []
      },
      "outputs": [],
      "source": [
        "# 예측 결과 시각화\n",
        "plot_model_result(y_train, y_val, y_pred)"
      ]
    },
    {
      "cell_type": "markdown",
      "metadata": {
        "id": "Er_ofmYI4Uzt"
      },
      "source": [
        "## **(2) 상품: 12 - Milk**\n",
        "\n",
        "- 12번 상품에 대해 모델링하고 성능을 평가합니다.\n",
        "- 모델 이름은 **model12_lin**로 합니다."
      ]
    },
    {
      "cell_type": "code",
      "execution_count": null,
      "metadata": {
        "id": "apgvdA_JGLQi",
        "tags": []
      },
      "outputs": [],
      "source": [
        "# 데이터 준비\n",
        "x_train, x_val, y_train, y_val = preproc(data12)\n",
        "\n",
        "# 선언하기\n",
        "model12_lin = LinearRegression()\n",
        "\n",
        "# 학습하기\n",
        "model12_lin.fit(x_train, y_train)\n",
        "\n",
        "# 예측하기\n",
        "y_pred = model12_lin.predict(x_val)\n",
        "\n",
        "# 평가하기\n",
        "print('RMSE:', mean_squared_error(y_val, y_pred, squared=False))\n",
        "print('MAE:', mean_absolute_error(y_val, y_pred))\n",
        "print('MAPE:', mean_absolute_percentage_error(y_val, y_pred))\n",
        "print('R2:', r2_score(y_val, y_pred))"
      ]
    },
    {
      "cell_type": "markdown",
      "metadata": {
        "id": "qvaZIrjzGLQi"
      },
      "source": [
        "- 모델이 예측한 결과를 시각화해 확인합니다."
      ]
    },
    {
      "cell_type": "code",
      "execution_count": null,
      "metadata": {
        "id": "rPBlr0tdGLQi",
        "tags": []
      },
      "outputs": [],
      "source": [
        "# 예측 결과 시각화\n",
        "plot_model_result(y_train, y_val, y_pred)"
      ]
    },
    {
      "cell_type": "markdown",
      "metadata": {
        "id": "GKfAn6QO4VEo"
      },
      "source": [
        "## **(3) 상품: 42 - Agricultural products**\n",
        "\n",
        "- 42번 상품에 대해 모델링하고 성능을 평가합니다.\n",
        "- 모델 이름은 **model42_lin**로 합니다."
      ]
    },
    {
      "cell_type": "code",
      "execution_count": null,
      "metadata": {
        "id": "ql4jf276GLQj",
        "tags": []
      },
      "outputs": [],
      "source": [
        "# 데이터 준비\n",
        "x_train, x_val, y_train, y_val = preproc(data42)\n",
        "\n",
        "# 선언하기\n",
        "model42_lin = LinearRegression()\n",
        "\n",
        "# 학습하기\n",
        "model42_lin.fit(x_train, y_train)\n",
        "\n",
        "# 예측하기\n",
        "y_pred = model42_lin.predict(x_val)\n",
        "\n",
        "# 평가하기\n",
        "print('RMSE:', mean_squared_error(y_val, y_pred, squared=False))\n",
        "print('MAE:', mean_absolute_error(y_val, y_pred))\n",
        "print('MAPE:',mean_absolute_percentage_error(y_val, y_pred))\n",
        "print('R2:', r2_score(y_val, y_pred))"
      ]
    },
    {
      "cell_type": "markdown",
      "metadata": {
        "id": "JNmK6Jt-GLQj"
      },
      "source": [
        "- 모델이 예측한 결과를 시각화해 확인합니다."
      ]
    },
    {
      "cell_type": "code",
      "execution_count": null,
      "metadata": {
        "id": "U0fmtWxYGLQj",
        "tags": []
      },
      "outputs": [],
      "source": [
        "# 예측 결과 시각화\n",
        "plot_model_result(y_train, y_val, y_pred)"
      ]
    },
    {
      "cell_type": "markdown",
      "metadata": {
        "id": "blcqn0OcGLQj"
      },
      "source": [
        "# **4. 데이터 셋 구성하기 #2**\n",
        "\n",
        "- 모델의 성능을 높이기 위해 의미있는 변수를 추가합니다.\n",
        "- 상품코드 별로 각각 데이터셋을 구성해야 합니다.\n",
        "- 상품별 데이터 셋 이름은 다음과 같이 통일합니다.\n",
        "    - data03: 3번 상품 데이터 셋\n",
        "    - data12: 12번 상품 데이터 셋\n",
        "    - data42: 42번 상품 데이터 셋\n",
        "- 예를 들면 다음과 같은 변수들을 갖는 데이터 셋을 구성할 수 있습니다.\n",
        "    - Date: 날짜\n",
        "    - Qty: 판매량\n",
        "    - CustomerCount: 고객 방문수\n",
        "    - WeekDay: 요일\n",
        "    - Month: 월\n",
        "    - WTI_Price: 유가\n",
        "    - **Category_Qty: 동일 카테고리 판매량 합계**\n",
        "    - **City_CustCount: 동일 지역 방문객 수**\n",
        "    - **Qty_Lag_1: 1일 전 판매량**\n",
        "    - **Qty_Lag_7_mean: 최근 7일간 판매량 평균**\n",
        "    - **기타 등등...**\n",
        "    - Target: 예측해야 하는 판매량"
      ]
    },
    {
      "cell_type": "code",
      "execution_count": null,
      "metadata": {
        "id": "DXasd0nMGLQk",
        "tags": []
      },
      "outputs": [],
      "source": [
        "# 함수 만들기\n",
        "def make_dataset_02(Product_ID):\n",
        "    # 1. 기본 데이터 준비\n",
        "    leadtime = products.loc[products['Product_ID']==Product_ID, 'LeadTime'].values[0]\n",
        "    temp1 = sales.loc[(sales['Store_ID']==44) & (sales['Product_ID']==Product_ID), ['Date', 'Qty']]\n",
        "    temp2 = orders.loc[orders['Store_ID']==44, ['Date', 'CustomerCount']]\n",
        "    temp3 = pd.merge(temp1, temp2, on='Date', how='left')\n",
        "\n",
        "    # 2. Feature Engineering\n",
        "    # 날짜 요소 추출\n",
        "    temp3['WeekDay'] = temp3['Date'].dt.day_name()\n",
        "    temp3['Month'] = temp3['Date'].dt.month\n",
        "\n",
        "    # Oil Price\n",
        "    temp3 = pd.merge(temp3, oil_price, on='Date', how='left')\n",
        "    temp3['WTI_Price'] = temp3['WTI_Price'].rolling(14, min_periods=1).mean()\n",
        "\n",
        "    # 동일 카테고리 판매량 합계\n",
        "    Category = products.loc[products['Product_ID'].isin([Product_ID]), 'Category'].to_list()\n",
        "    Product_IDs = products.loc[products['Category'].isin(Category), 'Product_ID'].to_list()\n",
        "    temp4 = sales.loc[(sales['Store_ID']==44) & (sales['Product_ID'].isin(Product_IDs))]\n",
        "    temp4 = temp4.groupby(by='Date', as_index=False)['Qty'].sum()\n",
        "    temp4.columns = ['Date', 'Category_Qty']\n",
        "    temp3 = pd.merge(temp3, temp4, on='Date', how='left')\n",
        "\n",
        "    # 동일 지역 방문객 수\n",
        "    City = stores.loc[stores['Store_ID']==44, 'City'].values[0]\n",
        "    Store_IDs = stores.loc[stores['City']==City, 'Store_ID'].to_list()\n",
        "    temp5 = orders.loc[orders['Store_ID'].isin(Store_IDs)]\n",
        "    temp5 = temp5.groupby('Date', as_index=False)['CustomerCount'].sum()\n",
        "    temp5.columns = ['Date', 'City_CustCount']\n",
        "    temp3 = pd.merge(temp3, temp5, on='Date', how='left')\n",
        "\n",
        "    # 결측치 처리\n",
        "    temp3.interpolate(method='linear', inplace=True)\n",
        "    temp3.fillna(method='bfill', inplace=True)\n",
        "\n",
        "    # 1일 전 판매량\n",
        "    temp3['Qty_Lag_1'] =  temp3['Qty'].shift(1)\n",
        "\n",
        "    # 2일 전 판매량\n",
        "    temp3['Qty_Lag_2'] =  temp3['Qty'].shift(2)\n",
        "\n",
        "    # 7일 전 판매량\n",
        "    temp3['Qty_Lag_7'] =  temp3['Qty'].shift(7)\n",
        "\n",
        "    # 최근 7일 판매량 평균\n",
        "    temp3['Qty_Lag_7_mean'] = temp3['Qty'].rolling(7, min_periods=1).mean()\n",
        "\n",
        "    # 최근 14일 판매량 평균\n",
        "    temp3['Qty_Lag_14_mean'] = temp3['Qty'].rolling(14, min_periods=1).mean()\n",
        "\n",
        "    # 3. Target 추가\n",
        "    temp3['Target'] = temp3['Qty'].shift(-leadtime)\n",
        "\n",
        "    # 결측치 처리\n",
        "    temp3.dropna(inplace=True)\n",
        "\n",
        "    return temp3"
      ]
    },
    {
      "cell_type": "markdown",
      "metadata": {
        "id": "vvh_Cow2GLQk"
      },
      "source": [
        "## **(1) 상품: 3 - Beverage**\n",
        "\n",
        "- 3번 상품 데이터 셋을 구성합니다.\n",
        "- 데이터프레임 이름은 **data03**으로 합니다."
      ]
    },
    {
      "cell_type": "code",
      "execution_count": null,
      "metadata": {
        "id": "M9GVXUr7GLQk",
        "tags": []
      },
      "outputs": [],
      "source": [
        "# 3번 상품\n",
        "data03 = make_dataset_02(3)\n",
        "data03.head()"
      ]
    },
    {
      "cell_type": "markdown",
      "metadata": {
        "id": "i4aO73i2GLQk"
      },
      "source": [
        "## **(2) 상품: 12 - Milk**\n",
        "\n",
        "- 12번 상품 데이터 셋을 구성합니다.\n",
        "- 데이터프레임 이름은 **data12**으로 합니다."
      ]
    },
    {
      "cell_type": "code",
      "execution_count": null,
      "metadata": {
        "id": "wm44E-tkGLQl",
        "tags": []
      },
      "outputs": [],
      "source": [
        "# 12번 상품\n",
        "data12 = make_dataset_02(12)\n",
        "data12.head()"
      ]
    },
    {
      "cell_type": "markdown",
      "metadata": {
        "id": "q3xwiaNiGLQl"
      },
      "source": [
        "## **(3) 상품: 42 - Agricultural products**\n",
        "\n",
        "- 42번 상품 데이터 셋을 구성합니다.\n",
        "- 데이터프레임 이름은 **data42**으로 합니다."
      ]
    },
    {
      "cell_type": "code",
      "execution_count": null,
      "metadata": {
        "id": "g99PFMqJGLQl",
        "tags": []
      },
      "outputs": [],
      "source": [
        "# 42번 상품\n",
        "data42 = make_dataset_02(42)\n",
        "data42.head()"
      ]
    },
    {
      "cell_type": "markdown",
      "metadata": {
        "id": "nO4KM89AGLQl"
      },
      "source": [
        "# **5. 2차 모델링: 모델 성능 변화 확인**\n",
        "\n",
        "- Linear Regression 알고리즘으로 다시 모델링합니다.\n",
        "- 모델링 과정에서 변수 이름은 **x_train, x_val, y_train, y_val, y_pred**을 사용합니다.\n",
        "- 모델 성능을 높이기 위해 적절한 변수를 추가합니다.\n",
        "- 데이터 셋에 변화를 주면서 변화되는 성능을 기록하고 비교합니다."
      ]
    },
    {
      "cell_type": "markdown",
      "metadata": {
        "id": "wI52RRrFGLQl"
      },
      "source": [
        "## **(1) 상품: 3 - Beverage**\n",
        "\n",
        "- 3번 상품에 대해 모델링하고 성능을 평가합니다.\n",
        "- 모델 이름은 **model03_lin**로 합니다."
      ]
    },
    {
      "cell_type": "code",
      "execution_count": null,
      "metadata": {
        "id": "Tr_aqJ1xGLQm",
        "tags": []
      },
      "outputs": [],
      "source": [
        "# 데이터 준비\n",
        "x_train, x_val, y_train, y_val = preproc(data03)\n",
        "\n",
        "# 선언하기\n",
        "model03_lin = LinearRegression()\n",
        "\n",
        "# 학습하기\n",
        "model03_lin.fit(x_train, y_train)\n",
        "\n",
        "# 예측하기\n",
        "y_pred = model03_lin.predict(x_val)\n",
        "\n",
        "# 평가하기\n",
        "print('RMSE:', mean_squared_error(y_val, y_pred, squared=False))\n",
        "print('MAE:', mean_absolute_error(y_val, y_pred))\n",
        "print('MAPE:', mean_absolute_percentage_error(y_val, y_pred))\n",
        "print('R2:', r2_score(y_val, y_pred))"
      ]
    },
    {
      "cell_type": "markdown",
      "metadata": {
        "id": "E9ysxRFZGLQm"
      },
      "source": [
        "- 모델이 예측한 결과를 시각화해 확인합니다."
      ]
    },
    {
      "cell_type": "code",
      "execution_count": null,
      "metadata": {
        "id": "K-MlIgpUGLQm",
        "tags": []
      },
      "outputs": [],
      "source": [
        "# 예측 결과 시각화\n",
        "plot_model_result(y_train, y_val, y_pred)"
      ]
    },
    {
      "cell_type": "markdown",
      "metadata": {
        "id": "s8PK4P5jGLQm"
      },
      "source": [
        "## **(2) 상품: 12 - Milk**\n",
        "\n",
        "- 12번 상품에 대해 모델링하고 성능을 평가합니다..\n",
        "- 모델 이름은 **model03_lin**로 합니다."
      ]
    },
    {
      "cell_type": "code",
      "execution_count": null,
      "metadata": {
        "id": "U36NJbJLGLQm",
        "tags": []
      },
      "outputs": [],
      "source": [
        "# 데이터 준비\n",
        "x_train, x_val, y_train, y_val = preproc(data12)\n",
        "\n",
        "# 선언하기\n",
        "model12_lin = LinearRegression()\n",
        "\n",
        "# 학습하기\n",
        "model12_lin.fit(x_train, y_train)\n",
        "\n",
        "# 예측하기\n",
        "y_pred = model12_lin.predict(x_val)\n",
        "\n",
        "# 평가하기\n",
        "print('RMSE:', mean_squared_error(y_val, y_pred, squared=False))\n",
        "print('MAE:', mean_absolute_error(y_val, y_pred))\n",
        "print('MAPE:', mean_absolute_percentage_error(y_val, y_pred))\n",
        "print('R2:', r2_score(y_val, y_pred))"
      ]
    },
    {
      "cell_type": "markdown",
      "metadata": {
        "id": "Wjn_sjJgGLQn"
      },
      "source": [
        "- 모델이 예측한 결과를 시각화해 확인합니다."
      ]
    },
    {
      "cell_type": "code",
      "execution_count": null,
      "metadata": {
        "id": "TzQ4XT0xGLQn",
        "tags": []
      },
      "outputs": [],
      "source": [
        "# 예측 결과 시각화\n",
        "plot_model_result(y_train, y_val, y_pred)"
      ]
    },
    {
      "cell_type": "markdown",
      "metadata": {
        "id": "IMiIhKVpGLQn",
        "tags": []
      },
      "source": [
        "## **(3) 상품: 42 - Agricultural products**\n",
        "\n",
        "- 42번 상품에 대해 모델링하고 성능을 평가합니다..\n",
        "- 모델 이름은 **model42_lin**로 합니다."
      ]
    },
    {
      "cell_type": "code",
      "execution_count": null,
      "metadata": {
        "id": "vcolY5FxGLQn",
        "tags": []
      },
      "outputs": [],
      "source": [
        "# 데이터 준비\n",
        "x_train, x_val, y_train, y_val = preproc(data42)\n",
        "\n",
        "# 선언하기\n",
        "model42_lin = LinearRegression()\n",
        "\n",
        "# 학습하기\n",
        "model42_lin.fit(x_train, y_train)\n",
        "\n",
        "# 예측하기\n",
        "y_pred = model42_lin.predict(x_val)\n",
        "\n",
        "# 평가하기\n",
        "print('RMSE:', mean_squared_error(y_val, y_pred, squared=False))\n",
        "print('MAE:', mean_absolute_error(y_val, y_pred))\n",
        "print('MAPE:', mean_absolute_percentage_error(y_val, y_pred))\n",
        "print('R2:', r2_score(y_val, y_pred))"
      ]
    },
    {
      "cell_type": "markdown",
      "metadata": {
        "id": "DttcVMWRGLQo"
      },
      "source": [
        "- 모델이 예측한 결과를 시각화해 확인합니다."
      ]
    },
    {
      "cell_type": "code",
      "execution_count": null,
      "metadata": {
        "id": "j4c-7uVfGLQo",
        "tags": []
      },
      "outputs": [],
      "source": [
        "# 예측 결과 시각화\n",
        "plot_model_result(y_train, y_val, y_pred)"
      ]
    },
    {
      "cell_type": "markdown",
      "metadata": {
        "id": "ZN_faOzz_YNo"
      },
      "source": [
        "# **6. 3차 모델링: 초기 모델 생성**\n",
        "\n",
        "- Random Forest, LightGBM 알고리즘으로 모델링하고 성능을 기록합니다.\n",
        "- 모델링 과정에서 변수 이름은 **x_train, x_val, y_train, y_val, y_pred**을 사용합니다.\n",
        "- 하이퍼파라미터 튜닝은 하지 않습니다(모든 파라미터 기본값 사용).\n",
        "- **검증용 데이터**는 학습용 데이터에서 **최근 120일간**의 데이터를 사용합니다.\n",
        "- 우선 Linear Regression 모델보다 성능이 좋은지 비교하는 데 의미를 둡니다."
      ]
    },
    {
      "cell_type": "markdown",
      "metadata": {
        "id": "-2unIvUwpH0K"
      },
      "source": [
        "## **(1) Random Forest 모델**"
      ]
    },
    {
      "cell_type": "markdown",
      "metadata": {
        "id": "V3rdaRw7OLvV"
      },
      "source": [
        "### **1) 상품: 3 - Beverage**\n",
        "\n",
        "- 3번 상품에 대해 모델링하고 성능을 평가합니다..\n",
        "- 모델 이름은 **model03_rdf**로 합니다."
      ]
    },
    {
      "cell_type": "code",
      "execution_count": null,
      "metadata": {
        "id": "bV0MAkbbGLQp",
        "tags": []
      },
      "outputs": [],
      "source": [
        "# 데이터 준비\n",
        "x_train, x_val, y_train, y_val = preproc(data03)\n",
        "\n",
        "# 선언하기\n",
        "model03_rdf = RandomForestRegressor()\n",
        "\n",
        "# 학습하기\n",
        "model03_rdf.fit(x_train, y_train)\n",
        "\n",
        "# 예측하기\n",
        "y_pred = model03_rdf.predict(x_val)\n",
        "\n",
        "# 평가하기\n",
        "print('RMSE:', mean_squared_error(y_val, y_pred, squared=False))\n",
        "print('MAE:', mean_absolute_error(y_val, y_pred))\n",
        "print('MAPE:', mean_absolute_percentage_error(y_val, y_pred))\n",
        "print('R2:', r2_score(y_val, y_pred))"
      ]
    },
    {
      "cell_type": "markdown",
      "metadata": {
        "id": "XuXM7yciGLQp"
      },
      "source": [
        "- 모델이 예측한 결과를 시각화해 확인합니다."
      ]
    },
    {
      "cell_type": "code",
      "execution_count": null,
      "metadata": {
        "id": "4BNHuiuCGLQp",
        "tags": []
      },
      "outputs": [],
      "source": [
        "# 예측 결과 시각화\n",
        "plot_model_result(y_train, y_val, y_pred)"
      ]
    },
    {
      "cell_type": "markdown",
      "metadata": {
        "id": "R3R0u4WVOLvc"
      },
      "source": [
        "### **2) 상품: 12 - Milk**\n",
        "\n",
        "- 12번 상품에 대해 모델링하고 성능을 평가합니다..\n",
        "- 모델 이름은 **model12_rdf**로 합니다."
      ]
    },
    {
      "cell_type": "code",
      "execution_count": null,
      "metadata": {
        "id": "gHphLr1hGLQp",
        "tags": []
      },
      "outputs": [],
      "source": [
        "# 데이터 준비\n",
        "x_train, x_val, y_train, y_val = preproc(data12)\n",
        "\n",
        "# 선언하기\n",
        "model12_rdf = RandomForestRegressor()\n",
        "\n",
        "# 학습하기\n",
        "model12_rdf.fit(x_train, y_train)\n",
        "\n",
        "# 예측하기\n",
        "y_pred = model12_rdf.predict(x_val)\n",
        "\n",
        "# 평가하기\n",
        "print('RMSE:', mean_squared_error(y_val, y_pred, squared=False))\n",
        "print('MAE:', mean_absolute_error(y_val, y_pred))\n",
        "print('MAPE:', mean_absolute_percentage_error(y_val, y_pred))\n",
        "print('R2:', r2_score(y_val, y_pred))"
      ]
    },
    {
      "cell_type": "markdown",
      "metadata": {
        "id": "pyFTc5I1GLQq"
      },
      "source": [
        "- 모델이 예측한 결과를 시각화해 확인합니다."
      ]
    },
    {
      "cell_type": "code",
      "execution_count": null,
      "metadata": {
        "id": "r2GF0G3YGLQq",
        "tags": []
      },
      "outputs": [],
      "source": [
        "# 예측 결과 시각화\n",
        "plot_model_result(y_train, y_val, y_pred)"
      ]
    },
    {
      "cell_type": "markdown",
      "metadata": {
        "id": "TEK-0JLVOLvc"
      },
      "source": [
        "### **3) 상품: 42 - Agricultural products**\n",
        "\n",
        "- 42번 상품에 대해 모델링하고 성능을 평가합니다..\n",
        "- 모델 이름은 **model42_rdf**로 합니다."
      ]
    },
    {
      "cell_type": "code",
      "execution_count": null,
      "metadata": {
        "id": "-StS1ghMGLQq",
        "tags": []
      },
      "outputs": [],
      "source": [
        "# 데이터 준비\n",
        "x_train, x_val, y_train, y_val = preproc(data42)\n",
        "\n",
        "# 선언하기\n",
        "model42_rdf = RandomForestRegressor()\n",
        "\n",
        "# 학습하기\n",
        "model42_rdf.fit(x_train, y_train)\n",
        "\n",
        "# 예측하기\n",
        "y_pred = model42_rdf.predict(x_val)\n",
        "\n",
        "# 평가하기\n",
        "print('RMSE:', mean_squared_error(y_val, y_pred, squared=False))\n",
        "print('MAE:', mean_absolute_error(y_val, y_pred))\n",
        "print('MAPE:', mean_absolute_percentage_error(y_val, y_pred))\n",
        "print('R2:', r2_score(y_val, y_pred))"
      ]
    },
    {
      "cell_type": "markdown",
      "metadata": {
        "id": "L-JPK7ChGLQr"
      },
      "source": [
        "- 모델이 예측한 결과를 시각화해 확인합니다."
      ]
    },
    {
      "cell_type": "code",
      "execution_count": null,
      "metadata": {
        "id": "hL3PodlWGLQr",
        "tags": []
      },
      "outputs": [],
      "source": [
        "# 예측 결과 시각화\n",
        "plot_model_result(y_train, y_val, y_pred)"
      ]
    },
    {
      "cell_type": "markdown",
      "metadata": {
        "id": "HMNQszBfGLQr"
      },
      "source": [
        "## **(2) LightGBM 모델**"
      ]
    },
    {
      "cell_type": "markdown",
      "metadata": {
        "id": "piBIMVqFGLQr"
      },
      "source": [
        "### **1) 상품: 3 - Beverage**\n",
        "\n",
        "- 3번 상품에 대해 모델링하고 성능을 평가합니다..\n",
        "- 모델 이름은 **model03_lgb**로 합니다."
      ]
    },
    {
      "cell_type": "code",
      "execution_count": null,
      "metadata": {
        "id": "fS78xPnPGLQr",
        "tags": []
      },
      "outputs": [],
      "source": [
        "# 데이터 준비\n",
        "x_train, x_val, y_train, y_val = preproc(data03)\n",
        "\n",
        "# 선언하기\n",
        "model03_lgb = LGBMRegressor(verbose=-1)\n",
        "\n",
        "# 학습하기\n",
        "model03_lgb.fit(x_train, y_train)\n",
        "\n",
        "# 예측하기\n",
        "y_pred = model03_lgb.predict(x_val)\n",
        "\n",
        "# 평가하기\n",
        "print('RMSE:', mean_squared_error(y_val, y_pred, squared=False))\n",
        "print('MAE:', mean_absolute_error(y_val, y_pred))\n",
        "print('MAPE:', mean_absolute_percentage_error(y_val, y_pred))\n",
        "print('R2:', r2_score(y_val, y_pred))"
      ]
    },
    {
      "cell_type": "markdown",
      "metadata": {
        "id": "zt8UOJMQGLQs"
      },
      "source": [
        "- 모델이 예측한 결과를 시각화해 확인합니다."
      ]
    },
    {
      "cell_type": "code",
      "execution_count": null,
      "metadata": {
        "id": "0PwpFbUHGLQs",
        "tags": []
      },
      "outputs": [],
      "source": [
        "# 예측 결과 시각화\n",
        "plot_model_result(y_train, y_val, y_pred)"
      ]
    },
    {
      "cell_type": "markdown",
      "metadata": {
        "id": "EFgeziviGLQs"
      },
      "source": [
        "### **2) 상품: 12 - Milk**\n",
        "\n",
        "- 12번 상품에 대해 모델링하고 성능을 평가합니다..\n",
        "- 모델 이름은 **model12_lgb**로 합니다."
      ]
    },
    {
      "cell_type": "code",
      "execution_count": null,
      "metadata": {
        "id": "InH2NHymGLQs",
        "tags": []
      },
      "outputs": [],
      "source": [
        "# 데이터 준비\n",
        "x_train, x_val, y_train, y_val = preproc(data12)\n",
        "\n",
        "# 선언하기\n",
        "model12_lgb = LGBMRegressor(verbose=-1)\n",
        "\n",
        "# 학습하기\n",
        "model12_lgb.fit(x_train, y_train)\n",
        "\n",
        "# 예측하기\n",
        "y_pred = model12_lgb.predict(x_val)\n",
        "\n",
        "# 평가하기\n",
        "print('RMSE:', mean_squared_error(y_val, y_pred, squared=False))\n",
        "print('MAE:', mean_absolute_error(y_val, y_pred))\n",
        "print('MAPE:',mean_absolute_percentage_error(y_val, y_pred))\n",
        "print('R2:', r2_score(y_val, y_pred))"
      ]
    },
    {
      "cell_type": "markdown",
      "metadata": {
        "id": "rQ6YGBWwGLQs"
      },
      "source": [
        "- 모델이 예측한 결과를 시각화해 확인합니다."
      ]
    },
    {
      "cell_type": "code",
      "execution_count": null,
      "metadata": {
        "id": "2p9ibg9kGLQs",
        "tags": []
      },
      "outputs": [],
      "source": [
        "# 예측 결과 시각화\n",
        "plot_model_result(y_train, y_val, y_pred)"
      ]
    },
    {
      "cell_type": "markdown",
      "metadata": {
        "id": "jEAuJH2TGLQt"
      },
      "source": [
        "### **3) 상품: 42 - Agricultural products**\n",
        "\n",
        "- 42번 상품에 대해 모델링하고 성능을 평가합니다..\n",
        "- 모델 이름은 **model42_lgb**로 합니다."
      ]
    },
    {
      "cell_type": "code",
      "execution_count": null,
      "metadata": {
        "id": "sn6GwdVoGLQt",
        "tags": []
      },
      "outputs": [],
      "source": [
        "# 데이터 준비\n",
        "x_train, x_val, y_train, y_val = preproc(data42)\n",
        "\n",
        "# 선언하기\n",
        "model42_lgb = LGBMRegressor(verbose=-1)\n",
        "\n",
        "# 학습하기\n",
        "model42_lgb.fit(x_train, y_train)\n",
        "\n",
        "# 예측하기\n",
        "y_pred = model42_lgb.predict(x_val)\n",
        "\n",
        "# 평가하기\n",
        "print('RMSE:', mean_squared_error(y_val, y_pred, squared=False))\n",
        "print('MAE:', mean_absolute_error(y_val, y_pred))\n",
        "print('MAPE:', mean_absolute_percentage_error(y_val, y_pred))\n",
        "print('R2:', r2_score(y_val, y_pred))"
      ]
    },
    {
      "cell_type": "markdown",
      "metadata": {
        "id": "nelBC9FaGLQt"
      },
      "source": [
        "- 모델이 예측한 결과를 시각화해 확인합니다."
      ]
    },
    {
      "cell_type": "code",
      "execution_count": null,
      "metadata": {
        "id": "4BzddmzvGLQt",
        "tags": []
      },
      "outputs": [],
      "source": [
        "# 예측 결과 시각화\n",
        "plot_model_result(y_train, y_val, y_pred)"
      ]
    },
    {
      "cell_type": "markdown",
      "metadata": {
        "id": "DFVvSdhGQ4N_"
      },
      "source": [
        "# **7. 데이터프레임 저장**\n",
        "\n",
        "- 이후 실습을 위해 최종 구성된 데이터프레임을 파일로 저장합니다.\n",
        "- joblib룰 사용해 저장할 때는 일반적으로 pkl 확장자를 붙입니다.\n",
        "- 다음과 같은 형태의 구문으로 저장합니다.\n",
        "~~~\n",
        "joblib.dump(mydata, path + 'mydata.pkl')\n",
        "~~~\n",
        "- 파일 이름은 다음과 같이 통일합니다.\n",
        "    - data03.pkl: 3번 상품 데이터 셋\n",
        "    - data12.pkl: 12번 상품 데이터 셋\n",
        "    - data42.pkl: 42번 상품 데이터 셋"
      ]
    },
    {
      "cell_type": "code",
      "execution_count": null,
      "metadata": {
        "id": "rsPMYAnPBo4k",
        "tags": []
      },
      "outputs": [],
      "source": [
        "# 파일 저장\n",
        "joblib.dump(data03, path + 'data03.pkl')\n",
        "joblib.dump(data12, path + 'data12.pkl')\n",
        "joblib.dump(data42, path + 'data42.pkl')"
      ]
    }
  ],
  "metadata": {
    "colab": {
      "provenance": []
    },
    "kernelspec": {
      "display_name": "Python 3 (ipykernel)",
      "language": "python",
      "name": "python3"
    },
    "language_info": {
      "codemirror_mode": {
        "name": "ipython",
        "version": 3
      },
      "file_extension": ".py",
      "mimetype": "text/x-python",
      "name": "python",
      "nbconvert_exporter": "python",
      "pygments_lexer": "ipython3",
      "version": "3.11.5"
    }
  },
  "nbformat": 4,
  "nbformat_minor": 0
}