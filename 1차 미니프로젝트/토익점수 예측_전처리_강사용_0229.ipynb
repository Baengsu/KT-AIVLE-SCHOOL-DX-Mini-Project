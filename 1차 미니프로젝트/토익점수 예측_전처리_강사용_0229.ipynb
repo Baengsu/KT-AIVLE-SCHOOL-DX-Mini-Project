{
 "cells": [
  {
   "cell_type": "markdown",
   "metadata": {
    "id": "mJlY5pHkC2AM"
   },
   "source": [
    "# **토익 진단평가 데이터 다듬기**\n",
    "# 단계1 : 데이터 전처리\n",
    " * 이번 시간에는 파이썬을 활용한 AI모델링에서 전처리에 대해 실습해보겠습니다.\n",
    " * 전처리란 데이터 분석을 수행하기 전에 데이터를 적절한 형태로 가공하는 과정을 말합니다. \n",
    " * 머신러닝과 AI모델링에서 70% 차지하는 부분이 바로 전처리 파트입니다.\n",
    " * 굉장히 시간과 노력이 많이 투입되며, 어려운 부분일 수 있습니다.\n",
    " * 데이터의 이상치나 결측치를 제거하거나, 변수를 수치형으로 변환하거나, 표준화나 정규화를 적용하는 등의 작업이 있습니다.\n",
    " * 데이터가 깨끗이 정리되지 않으면 머신러닝/AI 성능을 장담할 수 없습니다.\n",
    " * 데이터 전처리에 심혈을 기울여주시기 바라며, 이론보다 실습이 더 많은 시간과 노력이 투자되어야 합니다."
   ]
  },
  {
   "cell_type": "markdown",
   "metadata": {
    "id": "-FPypzell2uc"
   },
   "source": [
    "## 0.미션 확인"
   ]
  },
  {
   "cell_type": "markdown",
   "metadata": {
    "id": "lYU5dYao7ydh"
   },
   "source": [
    "* 개요\n",
    "    * 응시할 토익점수를 예측해주는 모델을 생성하기 위한 데이터를 전처리하려고 합니다.\n",
    "    * 이를 위해 주어진 데이터는 응시자별 3회차씩의 토익점수와 당시 학습방식 등의 정보 입니다.\n",
    "    * 관련 토익점수 및 학습정보 데이터를 분석하여 미니프로젝트 1차 이후에 예측 모델을 개발하여 \n",
    "      토익 응시생들에게 도움이 되는 솔루션을 개발하려고 합니다.\n",
    "* 전처리 단계 목표\n",
    "    * 3회차(3행)의 데이터를 하나의 분석단위(1행)로 만들기 위해 응시자별 데이터를 집계합니다.\n",
    "    * 응시자는 하나의 ID로 구분됩니다.\n",
    "    * 응시회차는 seq로 구분됩니다. 모든 응시자가 1,2,3 의 회차 값을 갖고 있습니다.\n",
    "* 학습목차\n",
    "\n",
    "    0) 미션 내용 확인\n",
    "    1) 환경설정 : 라이브러리 불러오기 및 파일 읽어오기\n",
    "    2) 데이터프레임 탐색\n",
    "    3) 데이터 전처리 수행 (불필요 컬럼 삭제, Null 처리, 중복값 제거, 한 행으로 합치기 등)\n",
    "    4) 결과 저장하기"
   ]
  },
  {
   "cell_type": "markdown",
   "metadata": {
    "id": "dWToio0hXNVS"
   },
   "source": [
    "## 1.환경설정"
   ]
  },
  {
   "cell_type": "markdown",
   "metadata": {
    "id": "KnzVh2LmkLDU"
   },
   "source": [
    "### (1) 라이브러리 불러오기"
   ]
  },
  {
   "cell_type": "markdown",
   "metadata": {
    "id": "I_rCs78QJZmI"
   },
   "source": [
    "* **세부 요구사항**\n",
    "    - 기본적으로 필요한 라이브러리를 import 하도록 코드를 작성해주세요.\n",
    "    - 필요하다고 판단되는 라이브러리를 추가하겠습니다.\n",
    "    - Numpy패키지 : Numerical python의 줄임말, 벡터 및 행렬 연산에 있어서 편리한 기능, array 단위 연산 수행\n",
    "    - Pandas패키지 : 테이블을 수정하고 조작하는 다양한 기능 제공, 데이터 분석을 할 때 가장 많이 쓰이는 패키지"
   ]
  },
  {
   "cell_type": "code",
   "execution_count": null,
   "metadata": {
    "id": "3rsQerEaELwI",
    "tags": []
   },
   "outputs": [],
   "source": [
    "#[문제] pandas, numpy 라이브러리를 임포트하세요."
   ]
  },
  {
   "cell_type": "code",
   "execution_count": null,
   "metadata": {},
   "outputs": [],
   "source": [
    "import pandas as pd\n",
    "import numpy as np"
   ]
  },
  {
   "cell_type": "markdown",
   "metadata": {
    "id": "wsLDv9tZc_i1"
   },
   "source": [
    "### (2) 데이터 불러오기\n",
    "* 읽어올 데이터 파일\n",
    "    * 학습 데이터 : data04.xls\n",
    "    * 엑셀 파일이므로 pd.read_excel 함수를 이용해서 불러 옵니다.\n",
    "* 다음과 같이 데이터를 불러와주세요.\n",
    "    * 주피터랩 실행\n",
    "        * 제공된 압축파일 '미프 1차_토익'을 다운받아 압축을 해제합니다.\n",
    "        * anaconda의 root directory(C:\\Users\\<ID>) 에 '미프 1차_토익' 폴더를 만들고, 복사합니다.\n",
    "        * '토익점수 예측_데이터_탐색.ipynb'과 '토익점수 예측_전처리.ipynb' 실습 파일을 열어주세요."
   ]
  },
  {
   "cell_type": "markdown",
   "metadata": {
    "id": "HYi9O2rNdBU_"
   },
   "source": [
    "#### 1) 주피터랩 실행\n",
    "* '미프 1차_토익' 폴더에 필요한 파일들을 넣고, 본 파일을 열거나, 별도 경로를 지정해서 데이터를 읽어올 수 있습니다."
   ]
  },
  {
   "cell_type": "code",
   "execution_count": null,
   "metadata": {
    "id": "876cuCbEd4j_"
   },
   "outputs": [],
   "source": [
    "#[문제] '미프 1차_토익' 폴더에서 본 파일인 '1.전처리_교육생용'을 열어주세요.\n",
    "##[해설] 현재 작업 중인 디렉토리를 기준으로 하는 파일을 불러와주시기 바랍니다. \n",
    "##[해설] 왼쪽에 보이는 현재 위치를 기준으로 경로를 표기하면 상대경로는 path = '../미프 1차_토익'"
   ]
  },
  {
   "cell_type": "markdown",
   "metadata": {
    "id": "GH3ApIzofYPb"
   },
   "source": [
    "#### 2) 데이터 읽어오기\n",
    "* 데이터를 읽어오고 데이터 정보를 확인합니다."
   ]
  },
  {
   "cell_type": "code",
   "execution_count": null,
   "metadata": {
    "colab": {
     "base_uri": "https://localhost:8080/"
    },
    "executionInfo": {
     "elapsed": 27565,
     "status": "ok",
     "timestamp": 1679834035579,
     "user": {
      "displayName": "이선영",
      "userId": "03062122541069374649"
     },
     "user_tz": -540
    },
    "id": "6JPk6VADrLjH",
    "outputId": "01883108-9c93-433d-97b7-65b9e44db088"
   },
   "outputs": [],
   "source": [
    "#[문제] data04.xlsx 파일을 Pandas read_excel 함수를 이용하여 읽고 data변수에 저장하세요.\n",
    "##[해설] 데이터를 읽어오는 함수는 pd.read_excel을 사용합니다. CSV 파일일 경우, pd.read_csv로 불러와주세요."
   ]
  },
  {
   "cell_type": "code",
   "execution_count": null,
   "metadata": {},
   "outputs": [],
   "source": [
    "# 읽어들일 파일명 : data04.xlsx \n",
    "# Pandas read_excel 함수 활용\n",
    "# 결과 : data 저장\n",
    "data = pd.read_excel('data04.xlsx')\n",
    "file = 'data04.xlsx'"
   ]
  },
  {
   "cell_type": "code",
   "execution_count": null,
   "metadata": {
    "colab": {
     "base_uri": "https://localhost:8080/",
     "height": 363
    },
    "executionInfo": {
     "elapsed": 3059,
     "status": "ok",
     "timestamp": 1679834038635,
     "user": {
      "displayName": "이선영",
      "userId": "03062122541069374649"
     },
     "user_tz": -540
    },
    "id": "5UAfaN2SXCnD",
    "outputId": "653c6d39-c4f3-4f33-f4eb-faffd0d8592e"
   },
   "outputs": [],
   "source": [
    "#[문제] 읽어온 데이터프레임을 확인하고, 상위 10개 행만 보여주세요.\n",
    "##[해설] 텍스트 파일이나 데이터의 처음 부분을 출력하는 head 함수를 사용하고 데이터를 확인합니다."
   ]
  },
  {
   "cell_type": "code",
   "execution_count": null,
   "metadata": {},
   "outputs": [],
   "source": [
    "data.head(10)"
   ]
  },
  {
   "cell_type": "code",
   "execution_count": null,
   "metadata": {},
   "outputs": [],
   "source": [
    "data.values"
   ]
  },
  {
   "cell_type": "markdown",
   "metadata": {
    "id": "JsX1zLaIXwbo"
   },
   "source": [
    "### 2. 데이터프레임 탐색"
   ]
  },
  {
   "cell_type": "markdown",
   "metadata": {
    "id": "8Z6Fmjg7oizl"
   },
   "source": [
    "* **세부 요구사항**\n",
    "    - data의 형태, 기초통계량, 정보 등을 확인합니다.\n",
    "    - 특히 .info() 를 통해서 각 변수별 데이터타입이 적절한지 확인합니다.\n",
    "    - 다양한 함수로 데이터를 탐색해주세요."
   ]
  },
  {
   "cell_type": "code",
   "execution_count": null,
   "metadata": {
    "colab": {
     "base_uri": "https://localhost:8080/"
    },
    "executionInfo": {
     "elapsed": 10,
     "status": "ok",
     "timestamp": 1679834038636,
     "user": {
      "displayName": "이선영",
      "userId": "03062122541069374649"
     },
     "user_tz": -540
    },
    "id": "t2GW6WTJE60s",
    "outputId": "744d090a-5a03-4033-86d8-bf0fb0b29470"
   },
   "outputs": [],
   "source": [
    "#[문제] 전체 데이터의 행,열 개수를 확인하기\n",
    "##[해설] shape 함수는 데이터의 행, 열 개수를 확인할 때 사용됩니다."
   ]
  },
  {
   "cell_type": "code",
   "execution_count": null,
   "metadata": {},
   "outputs": [],
   "source": [
    "data.shape"
   ]
  },
  {
   "cell_type": "code",
   "execution_count": null,
   "metadata": {
    "colab": {
     "base_uri": "https://localhost:8080/",
     "height": 206
    },
    "executionInfo": {
     "elapsed": 8,
     "status": "ok",
     "timestamp": 1679834038636,
     "user": {
      "displayName": "이선영",
      "userId": "03062122541069374649"
     },
     "user_tz": -540
    },
    "id": "1ePaMVD6FKLP",
    "outputId": "1297af03-51b3-428d-b945-654219fcdef1"
   },
   "outputs": [],
   "source": [
    "#[문제] 전체 데이터의 하위 5개 행 확인하기\n",
    "##[해설] 데이터의 끝 부분을 출력하는 tail 함수를 사용해봅니다."
   ]
  },
  {
   "cell_type": "code",
   "execution_count": null,
   "metadata": {},
   "outputs": [],
   "source": [
    "data.tail(5)"
   ]
  },
  {
   "cell_type": "code",
   "execution_count": null,
   "metadata": {
    "colab": {
     "base_uri": "https://localhost:8080/"
    },
    "executionInfo": {
     "elapsed": 7,
     "status": "ok",
     "timestamp": 1679834038636,
     "user": {
      "displayName": "이선영",
      "userId": "03062122541069374649"
     },
     "user_tz": -540
    },
    "id": "6AE1REEhFQT3",
    "outputId": "eae582fa-04d4-4a96-9d85-f06dcd2c20e0"
   },
   "outputs": [],
   "source": [
    "#[문제] 전체 데이터의 모든 변수 확인하기\n",
    "##[해설] 데이터프레임의 열(컬럼)에 대한 정보를 가져올 때는 columns 함수를 사용합니다. 이때 열 이름은 리스트로 반환되어 열 이름들을 확인할 수 있습니다."
   ]
  },
  {
   "cell_type": "code",
   "execution_count": null,
   "metadata": {},
   "outputs": [],
   "source": [
    "data.columns"
   ]
  },
  {
   "cell_type": "code",
   "execution_count": null,
   "metadata": {
    "colab": {
     "base_uri": "https://localhost:8080/"
    },
    "executionInfo": {
     "elapsed": 651,
     "status": "ok",
     "timestamp": 1679834039281,
     "user": {
      "displayName": "이선영",
      "userId": "03062122541069374649"
     },
     "user_tz": -540
    },
    "id": "Nrv3NIlZ08dt",
    "outputId": "0a5c91ab-46bd-4687-ed08-b516af9d78d7"
   },
   "outputs": [],
   "source": [
    "#[문제] 전체 데이터 정보 확인\n",
    "##[해설] 데이터의 열 수나 열 이름, 데이터 타입(int 정수, float 소수점데이터, object 객체데이터), 메모리 사용량 등을 확인하는데 info 함수로 확인합니다."
   ]
  },
  {
   "cell_type": "code",
   "execution_count": null,
   "metadata": {},
   "outputs": [],
   "source": [
    "data.info()"
   ]
  },
  {
   "cell_type": "code",
   "execution_count": null,
   "metadata": {},
   "outputs": [],
   "source": [
    "#[문제] 각 열별 Null 데이터 값의 개수를 확인해주세요.\n",
    "##[해설] isnull 또는 isna 함수로 누락된 값 여부를 표시, 그 결과를 sum을 이용하여 열마다 결측치 개수를 합산\n",
    "##[해설] isnull() 메소드 : 결측치는 True, 유효한 값은 False 반환"
   ]
  },
  {
   "cell_type": "code",
   "execution_count": null,
   "metadata": {},
   "outputs": [],
   "source": [
    "data.isnull()"
   ]
  },
  {
   "cell_type": "code",
   "execution_count": null,
   "metadata": {},
   "outputs": [],
   "source": [
    "data.isnull().sum()"
   ]
  },
  {
   "cell_type": "code",
   "execution_count": null,
   "metadata": {},
   "outputs": [],
   "source": [
    "#[추가문제] '기출문제 공부 횟수' 열에 있는 결측치가 있는 행을 제거해주세요.\n",
    "##[해설] dropna() 메서드로 결측치가 있는 열이나 행을 제거할 수 있어야 합니다.\n",
    "##[해설] subset 매개변수에 열을 지정하면 특정 열에 있는 결측치가 있는 행을 제거할 수 있음"
   ]
  },
  {
   "cell_type": "code",
   "execution_count": null,
   "metadata": {},
   "outputs": [],
   "source": []
  },
  {
   "cell_type": "code",
   "execution_count": null,
   "metadata": {},
   "outputs": [],
   "source": [
    "#[문제] 데이터의 통계정보를 확인해주세요.\n",
    "##[해설] describe 함수는 데이터의 분포, 최소값, 최대값 등 통계 정보를 한눈에 파악할 수 있도록 도와주는 유용한 함수입니다.\n",
    "##[해설] 개수, 평균, 표준편차(std), 최소값, 각 열별 백분위수, 최대값을 보여줍니다."
   ]
  },
  {
   "cell_type": "code",
   "execution_count": null,
   "metadata": {},
   "outputs": [],
   "source": [
    "data.describe()"
   ]
  },
  {
   "cell_type": "markdown",
   "metadata": {
    "id": "OQsk3V6hXSjE"
   },
   "source": [
    "## 3.데이터 전처리 수행"
   ]
  },
  {
   "cell_type": "markdown",
   "metadata": {
    "id": "jImSiMfNOZVV"
   },
   "source": [
    "*  **세부 요구사항**\n",
    "    * 여기부터는 스스로 실습해봅시다.\n",
    "    * ID를 기준으로 3회차(3행) 데이터를 1개의 분석단위(1행)으로 만들어야 합니다.\n",
    "        * (1) 개인정보 데이터와 각 회차별 학습정보 데이터 분리\n",
    "        * (2) 개인정보의 중복값 제거\n",
    "        * (3) 각 회차별 정보를 한 행으로 만들기 \n",
    "        * (4) (2)와 (3)을 합치기 (merge, ID 기준)\n",
    "        * (5) 레이블 만들기 (2회차와 3회차 점수 차이)\n",
    "    * 전처리 결과를 다시 한번 정리해봅니다."
   ]
  },
  {
   "cell_type": "markdown",
   "metadata": {
    "id": "Gg2ZVy_sz8Dw"
   },
   "source": [
    "### (1) 컬럼삭제 및 값변경, 개인정보와 각 회차별 학습정보 분리\n",
    "    * 컬럼선택 : data['ID'], data[['ID', 'Seq']] #2개 이상의 열을 선택할 경우 대괄호를 2개 입력\n",
    "    * drop() 메소드를 사용해 열삭제 (axis=0은 행삭제, axis=1은 열삭제)"
   ]
  },
  {
   "cell_type": "code",
   "execution_count": null,
   "metadata": {},
   "outputs": [],
   "source": [
    "#[문제] data의 컬럼별 데이터 타입을 출력하세요.\n",
    "##[해설] info함수 : 데이터의 열수, 열이름, 데이터타입(int 정수, float 소수점, object 객체), 메모리 사용량 등을 확인"
   ]
  },
  {
   "cell_type": "code",
   "execution_count": null,
   "metadata": {},
   "outputs": [],
   "source": [
    "data.info()"
   ]
  },
  {
   "cell_type": "code",
   "execution_count": null,
   "metadata": {
    "tags": []
   },
   "outputs": [],
   "source": [
    "#[문제] data에서 'Student ID' 컬럼을 삭제하세요.\n",
    "##[해설] 특정 컬럼을 삭제할 때는 drop 함수 사용, axis=1은 열을 의미하므로 drop함수에서 지정하면 열을 삭제하게 됩니다.\n",
    "##[해설] inplace=True 매개변수는 원본 변경, 새로운 객체를 생성하지 않고 따로 저장하지 않아도 data에 직접 수정\n",
    "##[해설] drop(columns=, index=, axis=)에서 columns : 삭제한 열 정보, index : 삭제할 행 정보, axis : 행,열 기준 정보\n",
    "##[해설] 0 : 행기준 삭제, 1 : 열기준 삭제"
   ]
  },
  {
   "cell_type": "code",
   "execution_count": null,
   "metadata": {},
   "outputs": [],
   "source": [
    "# axis=1 옵션 사용, 컬럼단위 삭제(drop함수)\n",
    "# inplace=True 옵션 사용, data 데이터프레임에 저장\n",
    "# 2개 열을 삭제하고 싶으면 대괄호 안에 열 2개 삽입\n",
    "\n",
    "data.drop('Student ID', axis=1, inplace=True)"
   ]
  },
  {
   "cell_type": "code",
   "execution_count": null,
   "metadata": {},
   "outputs": [],
   "source": [
    "#[문제] 14개컬럼에서 13개컬럼으로 줄어든 것을 확인해주세요.\n",
    "##[해설] 열 수나 열 이름, 데이터 타입, 메모리 사용량 등을 확인하는데 info 함수로 확인합니다."
   ]
  },
  {
   "cell_type": "code",
   "execution_count": null,
   "metadata": {},
   "outputs": [],
   "source": [
    "data.info()"
   ]
  },
  {
   "cell_type": "code",
   "execution_count": null,
   "metadata": {},
   "outputs": [],
   "source": [
    "#[문제] data 데이터프레임에서 '기출문제 공부 횟수' 컬럼의 Null 값을 '' --> '0'으로 변경하세요.\n",
    "##[해설] fillna함수는 누락된 값을 다른 값으로 채우는 작업, '기출문제 공부횟수' 컬럼은 1497개의 non-null을 가지고 있음 \n",
    "##[해설] data['기출문제 공부 횟수']의 누락값을 0으로 채우고, inplace=True를 설정하면 원본 데이터프레임을 변경\n",
    "##[해설] fillna함수는 0과 같은 특정값으로 채우거나 평균값으로 채우는게 일반적임\n",
    "##[해설] '기출문제 공부 횟수' 컬럼의 Null 값을 평균값으로 변경 : mean_공부횟수 = data['기출문제 공부 횟수'].mean() \n",
    "##[해설] 코드 : data['기출문제 공부 횟수'].fillna(mean_공부횟수, inplace=True)"
   ]
  },
  {
   "cell_type": "code",
   "execution_count": null,
   "metadata": {},
   "outputs": [],
   "source": [
    "# fillna 함수\n",
    "# 대상컬럼 : '기출문제 공부 횟수'\n",
    "\n",
    "data['기출문제 공부 횟수'].fillna(0, inplace=True)"
   ]
  },
  {
   "cell_type": "code",
   "execution_count": null,
   "metadata": {},
   "outputs": [],
   "source": [
    "#[문제] '기출문제 공부 횟수' 컬럼의 값 0으로 변경 확인\n",
    "##[해설] isnull 함수로 null값의 열별 개수 확인. 누락된 값을 0으로 대체하는 것은 항상 옳은 선택은 아니지만 데이터 분석에서\n",
    "##[해설] 누락된 값으로 인한 오류를 방지하거나 계산의 편의성을 높일 수 있습니다."
   ]
  },
  {
   "cell_type": "code",
   "execution_count": null,
   "metadata": {},
   "outputs": [],
   "source": [
    "data.isnull().sum()"
   ]
  },
  {
   "cell_type": "code",
   "execution_count": null,
   "metadata": {
    "id": "aMOLrTmMKeWC",
    "tags": []
   },
   "outputs": [],
   "source": [
    "#[문제] 개인정보 데이터와 토익시험 학습정보 데이터를 2개의 데이터 프레임인 df1, df2으로 각각 분리해주세요.\n",
    "##[해설] 데이터프레임을 분리하는 이유는 필요한 조각으로 분할하여 각각 다른 분석이나 처리를 수행하기 위해서입니다. "
   ]
  },
  {
   "cell_type": "code",
   "execution_count": null,
   "metadata": {},
   "outputs": [],
   "source": [
    "# 개인정보 데이터는 features1, 토익시험 학습정보 데이터는 features2로 분리해주세요.\n",
    "# df1(개인정보 데이터)에 포함될 features : 'ID', 'Gender', 'Birth_Year'\n",
    "# df2(토익시험 학습정보 데이터)에 포함될 features : 'ID','Seq', 'LC_Score', 'RC_Score', 'Total Score', '학습목표', '학습방법', '강의 학습 교재 유형', '학습빈도', '기출문제 공부 횟수', '취약분야 인지 여부', '토익 모의테스트 횟수'\n",
    "\n",
    "features1 = ['ID', 'Gender', 'Birth_Year']\n",
    "features2 = ['ID','Seq', 'LC_Score', 'RC_Score', 'Total Score', '학습목표', '학습방법', '강의 학습 교재 유형', '학습빈도', '기출문제 공부 횟수', '취약분야 인지 여부', '토익 모의테스트 횟수']\n",
    "\n",
    "# 개인정보 데이터\n",
    "df1 = data[features1]\n",
    "\n",
    "# 토익시험 학습정보 데이터\n",
    "df2 = data[features2]"
   ]
  },
  {
   "cell_type": "markdown",
   "metadata": {
    "id": "DODrFFR0ELoH",
    "tags": []
   },
   "source": [
    "### (2) 개인정보의 중복값 제거"
   ]
  },
  {
   "cell_type": "code",
   "execution_count": null,
   "metadata": {
    "colab": {
     "base_uri": "https://localhost:8080/",
     "height": 293
    },
    "executionInfo": {
     "elapsed": 19,
     "status": "ok",
     "timestamp": 1679834039281,
     "user": {
      "displayName": "이선영",
      "userId": "03062122541069374649"
     },
     "user_tz": -540
    },
    "id": "cnrEMZF8KjiU",
    "outputId": "9ad04cdc-647e-4ccf-a51f-3ba2d787c927"
   },
   "outputs": [],
   "source": [
    "#[문제] 개인정보 데이터 'df1'의 중복된 행을 제거해주세요.\n",
    "##[해설] drop_duplicates 함수는 데이터프레임에서 중복된 행을 제거하는 작업 수행. 중복행은 모든 열의 값이 동일한 행을 의미합니다.\n",
    "##[해설] 아래는 원본 데이터프레임에 바로 적용하므로 inplace=True로 설정한 것과 같은 의미입니다. \n",
    "##[해설] 중복값은 데이터의 정확성을 향상하기 위해 제거합니다."
   ]
  },
  {
   "cell_type": "code",
   "execution_count": null,
   "metadata": {
    "tags": []
   },
   "outputs": [],
   "source": [
    "# drop_duplicates 함수 활용\n",
    "# 제거된 결과는 원본 데이터프레임 'df1'에 바로 적용\n",
    "df1 = df1.drop_duplicates()"
   ]
  },
  {
   "cell_type": "markdown",
   "metadata": {
    "id": "wQtwmCIFEReH"
   },
   "source": [
    "### (3) 각 회차별 정보를 한 행으로 만들기\n",
    "* 우리는 3차시(Seq == 3)를 기준으로 1,2차시 정보를 집계하여 한 행으로 만들어 봅니다.\n",
    "* df.loc[조건]으로 조건을 지정해 조건에 만족하는 데이터만 조회하여 만들기"
   ]
  },
  {
   "cell_type": "code",
   "execution_count": null,
   "metadata": {
    "colab": {
     "base_uri": "https://localhost:8080/",
     "height": 424
    },
    "executionInfo": {
     "elapsed": 18,
     "status": "ok",
     "timestamp": 1679834039282,
     "user": {
      "displayName": "이선영",
      "userId": "03062122541069374649"
     },
     "user_tz": -540
    },
    "id": "XzHXC0GeKloP",
    "outputId": "e45e3f70-942a-4175-dd51-d7ed307ec513",
    "tags": []
   },
   "outputs": [],
   "source": [
    "#[문제] 토익시험 학습정보 데이터 'df2'에서 각 ID별 차시(Seq)가 3인 행을 선택하여 새로운 데이터프레임 'temp'에 할당해 주세요.\n",
    "\n",
    "##[해설] loc : 특정 행, 특정 행과 열, 그리고 조건에 따라 필터링된 행을 선택하는 함수, 행과 열에 조건도 줄 수 있음\n",
    "##[해설] loc :명칭으로 선택, iloc :인덱스번호로 선택, # df.loc['index명', 'column명']=df.loc[행,열]\n",
    "##[해설] loc함수는 행이나 열을 지정하여 해당 데이터에 접근. 'seq' 열이 3과 같은 행들만 필터링합니다.\n",
    "##[해설] df2에서 seq열이 3인 행들만 선택되어 출력됩니다. temp를 출력하여 꼭 확인해주세요.\n",
    "##[해설] 여러 조건에서 and 조건 : &, or 조건 : |, 같지 않다 : != 연산자 사용\n",
    "##[해설] 차시가 1~2차시 조건을 만족하는 행 조회 : df2.loc[(df2['Seq'] >0) & (df2['Seq'] <3)] "
   ]
  },
  {
   "cell_type": "code",
   "execution_count": null,
   "metadata": {
    "tags": []
   },
   "outputs": [],
   "source": [
    "# 3차시 데이터 : ['Seq'] == 3\n",
    "\n",
    "\n",
    "temp = df2.loc[df2['Seq']==3]\n",
    "temp"
   ]
  },
  {
   "cell_type": "code",
   "execution_count": null,
   "metadata": {},
   "outputs": [],
   "source": [
    "#[문제] temp 데이터프레임의 열이름 중 'LC_Score', 'RC_Score', 'Total Score'를 각각 '3rd_LC_Score', '3rd_RC_Score', '3rd_Total_Score'로 변경하고 확인해주세요.\n",
    "##[해설] rename 함수 : 데이터프레임의 행 인덱스 또는 열 이름을 변경하는 데 사용  \n",
    "##[해설] 이처럼 열에 더 의미있는 이름을 부여할 때 사용합니다. temp를 출력하여 반드시 확인해주세요."
   ]
  },
  {
   "cell_type": "code",
   "execution_count": null,
   "metadata": {},
   "outputs": [],
   "source": [
    "# rename 함수 활용, temp에 저장\n",
    "# {key: value} 형태의 딕셔너리를 생성할 때에는 중괄호를 사용합니다.\n",
    "temp = temp.rename(columns = {'LC_Score':'3rd_LC_Score','RC_Score':'3rd_RC_Score','Total Score':'3rd_Total_Score'})\n",
    "temp"
   ]
  },
  {
   "cell_type": "code",
   "execution_count": null,
   "metadata": {
    "colab": {
     "base_uri": "https://localhost:8080/",
     "height": 424
    },
    "executionInfo": {
     "elapsed": 17,
     "status": "ok",
     "timestamp": 1679834039282,
     "user": {
      "displayName": "이선영",
      "userId": "03062122541069374649"
     },
     "user_tz": -540
    },
    "id": "eOtlvhGILN3C",
    "outputId": "1b0c23a6-ca77-4342-9fcf-f9c2fa8c9a10"
   },
   "outputs": [],
   "source": [
    "#[문제] 토익시험 학습정보 데이터 'df2'의  각 ID별 차시(Seq)가 1인 행을 선택하여 새로운 데이터프레임 'temp1'에 할당해 주세요.\n",
    "##[해설] loc함수는 행이나 열을 지정하여 해당 데이터에 접근할 수 있습니다. 'seq' 열이 1과 같은 행들만 필터링합니다.\n",
    "##[해설] 결과적으로 df2에서 seq열이 1인 행들만 선택되어 출력됩니다. temp1를 출력하여 꼭 확인해주세요."
   ]
  },
  {
   "cell_type": "code",
   "execution_count": null,
   "metadata": {},
   "outputs": [],
   "source": [
    "# 1차시 데이터 : ['Seq'] == 1\n",
    "# loc 함수 활용 : 특정 행, 특정 행과 열, 그리고 조건에 따라 필터링된 행을 선택하는 함수\n",
    "\n",
    "temp1 = df2.loc[df2['Seq']==1]\n",
    "temp1"
   ]
  },
  {
   "cell_type": "code",
   "execution_count": null,
   "metadata": {},
   "outputs": [],
   "source": [
    "#[문제] 'temp1'에는 temp1['ID','LC_Score','RC_Score','Total Score'] 컬럼만 불러와 주세요.\n",
    "##[해설] 특정 컬럼만 작성하여 temp1을 출력합니다."
   ]
  },
  {
   "cell_type": "code",
   "execution_count": null,
   "metadata": {},
   "outputs": [],
   "source": [
    "temp1 = temp1[['ID','LC_Score','RC_Score','Total Score']]\n",
    "temp1"
   ]
  },
  {
   "cell_type": "code",
   "execution_count": null,
   "metadata": {},
   "outputs": [],
   "source": [
    "#[문제] temp1 데이터프레임의 열이름 중 'LC_Score', 'RC_Score', 'Total Score'를 각각 '1st_LC_Score', '1st_RC_Score', '1st_Total_Score'로 변경해주세요.\n",
    "##[해설] rename 함수는 열 이름을 변경하는데 사용됩니다. {key: value} 형태의 딕셔너리를 생성할 때에는 중괄호를 사용합니다. 이처럼 열에 더 의미있는 이름을 부여할 때 사용합니다."
   ]
  },
  {
   "cell_type": "code",
   "execution_count": null,
   "metadata": {},
   "outputs": [],
   "source": [
    "# rename 함수 활용, temp1에 저장\n",
    "temp1 = temp1.rename(columns = {'LC_Score':'1st_LC_Score','RC_Score':'1st_RC_Score','Total Score':'1st_Total_Score'})\n",
    "temp1"
   ]
  },
  {
   "cell_type": "code",
   "execution_count": null,
   "metadata": {
    "colab": {
     "base_uri": "https://localhost:8080/",
     "height": 424
    },
    "executionInfo": {
     "elapsed": 17,
     "status": "ok",
     "timestamp": 1679834039282,
     "user": {
      "displayName": "이선영",
      "userId": "03062122541069374649"
     },
     "user_tz": -540
    },
    "id": "iy3l114sKnqp",
    "outputId": "d029f628-256f-425b-d688-4bfdd4048617"
   },
   "outputs": [],
   "source": [
    "#[문제] 토익시험 학습정보 데이터 'df2'에서 각 ID별 차시(Seq)가 2인 행을 선택하여 새로운 데이터프레임 'temp2'에 할당해 주세요."
   ]
  },
  {
   "cell_type": "code",
   "execution_count": null,
   "metadata": {},
   "outputs": [],
   "source": [
    "# 2차시 데이터 : ['Seq'] == 2\n",
    "# loc 함수 활용 : 특정 행, 특정 행과 열, 그리고 조건에 따라 필터링된 행을 선택\n",
    "temp2 = df2.loc[df2['Seq']==2]\n",
    "temp2"
   ]
  },
  {
   "cell_type": "code",
   "execution_count": null,
   "metadata": {},
   "outputs": [],
   "source": [
    "#[문제] 'temp2'에는 temp2['ID','LC_Score','RC_Score','Total Score'] 컬럼만 불러와 주세요."
   ]
  },
  {
   "cell_type": "code",
   "execution_count": null,
   "metadata": {},
   "outputs": [],
   "source": [
    "temp2 = temp2[['ID','LC_Score','RC_Score','Total Score']] #2개 이상의 열을 선택할 경우 대괄호를 2개 입력\n",
    "temp2"
   ]
  },
  {
   "cell_type": "code",
   "execution_count": null,
   "metadata": {},
   "outputs": [],
   "source": [
    "#[문제] temp2 데이터프레임의 열이름 중 'LC_Score', 'RC_Score', 'Total Score'를 각각 '2nd_LC_Score', '2nd_RC_Score', '2nd_Total_Score'로 변경해주세요."
   ]
  },
  {
   "cell_type": "code",
   "execution_count": null,
   "metadata": {},
   "outputs": [],
   "source": [
    "# rename 함수 활용, temp2에 저장 및 확인\n",
    "temp2 = temp2.rename(columns = {'LC_Score':'2nd_LC_Score','RC_Score':'2nd_RC_Score','Total Score':'2nd_Total_Score'})\n",
    "temp2"
   ]
  },
  {
   "cell_type": "code",
   "execution_count": null,
   "metadata": {
    "tags": []
   },
   "outputs": [],
   "source": [
    "#[문제] 3회차 토익시험 정보가 모두 포함된 'temp' 데이터 + 1차시 토익시험점수 'temp1' 데이터을 합쳐서 'score_merged_data1'에 할당하세요.\n",
    "##[해설] merge함수는 두 개 이상의 데이터프레임을 병합하는 작업 수행. 데이터프레임 내 공통 열인 'ID'열 기준 결합.\n",
    "##[해설] how=outer는 데이터병합 방식의 합집합 형태. how=inner는 교집합, how=left는 왼쪽 데이터프레임의 모든 행을 포함"
   ]
  },
  {
   "cell_type": "code",
   "execution_count": null,
   "metadata": {},
   "outputs": [],
   "source": [
    "# 'temp'와 'temp1'을 'ID' 열 기준 조인, 'score_merged_data1'에 저장\n",
    "# merge 함수 할용, how='outer'\n",
    "score_merged_data1= pd.merge(temp, temp1, on='ID', how='outer')"
   ]
  },
  {
   "cell_type": "code",
   "execution_count": null,
   "metadata": {},
   "outputs": [],
   "source": [
    "#[문제] 'score_merged_data1'과 'temp2' 데이터를 합쳐서 'score_merged_data2'에 할당하세요.\n",
    "##[해설] 위와 마찬가지로 pd.merge(행1, 행2, on='ID', how='outer')로 작성합니다."
   ]
  },
  {
   "cell_type": "code",
   "execution_count": null,
   "metadata": {},
   "outputs": [],
   "source": [
    "# 'score_merged_data1'과 'temp2'을 'ID' 열을 기준으로 조인하여 'score_merged_data2'에 저장\n",
    "# merge 함수 할용, how='outer'\n",
    "score_merged_data2= pd.merge(score_merged_data1, temp2, on='ID', how='outer')"
   ]
  },
  {
   "cell_type": "code",
   "execution_count": null,
   "metadata": {},
   "outputs": [],
   "source": [
    "#[문제] score_merged_data2 데이터를 확인하세요."
   ]
  },
  {
   "cell_type": "code",
   "execution_count": null,
   "metadata": {},
   "outputs": [],
   "source": [
    "score_merged_data2"
   ]
  },
  {
   "cell_type": "markdown",
   "metadata": {
    "id": "1jOIvVDdE2sO"
   },
   "source": [
    "### (4) (2)개인정보 데이터와 (3)토익시험 학습정보 합치기"
   ]
  },
  {
   "cell_type": "code",
   "execution_count": null,
   "metadata": {
    "colab": {
     "base_uri": "https://localhost:8080/",
     "height": 780
    },
    "executionInfo": {
     "elapsed": 16,
     "status": "ok",
     "timestamp": 1679834039282,
     "user": {
      "displayName": "이선영",
      "userId": "03062122541069374649"
     },
     "user_tz": -540
    },
    "id": "QUkEmfZIN6vk",
    "outputId": "ed311b18-5e9f-409e-84ad-8046640b0f9c"
   },
   "outputs": [],
   "source": [
    "#[문제] 개인정보 데이터 'df1'과 토익시험 학습정보 'score_merged_data2'를 ID 기준으로 합치고 'baseline_data'에 할당하세요.\n",
    "##[해설] df1과 score_merged_data2를 merge 함수를 사용해서 병합. 이로서 1,2,3회차 점수들을 ID기준의 개인정보 데이터와 합치게 되었습니다."
   ]
  },
  {
   "cell_type": "code",
   "execution_count": null,
   "metadata": {},
   "outputs": [],
   "source": [
    "# merge 함수, 합쳐진 데이터는 'baseline_data'로 저장\n",
    "baseline_data = pd.merge(df1, score_merged_data2, on='ID', how='outer')\n",
    "baseline_data"
   ]
  },
  {
   "cell_type": "markdown",
   "metadata": {
    "id": "3vs9HoAqFJvE"
   },
   "source": [
    "### (5) 레이블 만들기"
   ]
  },
  {
   "cell_type": "markdown",
   "metadata": {
    "id": "viv3snDMSD3u"
   },
   "source": [
    "* **세부 요구사항**\n",
    "    - 시험 2회차와 3회차의 Score 차이를 구하여 분석하고 싶습니다.\n",
    "    - 이를 계산해서 'Score_diff_total'이라는 변수로 추가해봅시다.\n",
    "    - 레이블을 만드는 것은 데이터를 의미있는 방식으로 구분하거나 식별하는 것을 말합니다."
   ]
  },
  {
   "cell_type": "code",
   "execution_count": null,
   "metadata": {
    "colab": {
     "base_uri": "https://localhost:8080/",
     "height": 989
    },
    "executionInfo": {
     "elapsed": 16,
     "status": "ok",
     "timestamp": 1679834039283,
     "user": {
      "displayName": "이선영",
      "userId": "03062122541069374649"
     },
     "user_tz": -540
    },
    "id": "DHu8-DQcSHNz",
    "outputId": "01552d10-e259-4520-f387-bec966b80880"
   },
   "outputs": [],
   "source": [
    "#[문제] baseline_data 데이터프레임에서 2차시와 3차시의 시험점수 차이를 'Score_diff_total'이라는 변수로 'baseline_data'에 추가해주세요.\n",
    "##[해설] baseline_data 데이터프레임의 3차시 Total_Score에서 2차시 Total_Score를 마이너스한 값을 'Score_diff_total' 열에 저장\n",
    "##[해설] 이러한 변수로 시험 성적 변화를 추적하거나, 어떤 항목의 차이를 계산하는 등의 작업을 수행할 수 있습니다. "
   ]
  },
  {
   "cell_type": "code",
   "execution_count": null,
   "metadata": {},
   "outputs": [],
   "source": [
    "# baseline_data의 'Score_diff_total' 변수 = '3rd_Total_Score'에서 '2nd_Total_Score'를 마이너스한 값\n",
    "baseline_data['Score_diff_total'] = baseline_data['3rd_Total_Score'] - baseline_data['2nd_Total_Score']"
   ]
  },
  {
   "cell_type": "code",
   "execution_count": null,
   "metadata": {},
   "outputs": [],
   "source": [
    "#[문제] baseline_data 확인해주세요."
   ]
  },
  {
   "cell_type": "code",
   "execution_count": null,
   "metadata": {},
   "outputs": [],
   "source": [
    "baseline_data"
   ]
  },
  {
   "cell_type": "markdown",
   "metadata": {
    "id": "DFVvSdhGQ4N_"
   },
   "source": [
    "## 4.데이터셋 저장하기"
   ]
  },
  {
   "cell_type": "markdown",
   "metadata": {
    "id": "rPKwF9wlyK0D"
   },
   "source": [
    "* **세부 요구사항**\n",
    "    * to_csv를 이용하여 전처리된 데이터셋을 저장하세요.\n",
    "    * 저장할 파일의 확장자는 .csv 입니다."
   ]
  },
  {
   "cell_type": "code",
   "execution_count": null,
   "metadata": {
    "colab": {
     "base_uri": "https://localhost:8080/"
    },
    "executionInfo": {
     "elapsed": 423,
     "status": "ok",
     "timestamp": 1679834039694,
     "user": {
      "displayName": "이선영",
      "userId": "03062122541069374649"
     },
     "user_tz": -540
    },
    "id": "rsPMYAnPBo4k",
    "outputId": "7244b9e7-d2b6-4fa6-dff5-5096f4f4413a"
   },
   "outputs": [],
   "source": [
    "#[문제] 전처리된 데이터프레임 'baseline_data'를 CSV 파일로 저장합니다.\n",
    "##[해설] to_csv 함수를 사용, 데이터프레임의 내용을 CSV 파일로 저장. index=False할 경우 인덱스번호가 파일에 포함되지 않습니다. \n",
    "##[해설] 인덱스가 특별히 고유한 식별자가 아니기 때문에 인덱스를 제외하고 데이터를 저장하겠습니다."
   ]
  },
  {
   "cell_type": "code",
   "execution_count": null,
   "metadata": {},
   "outputs": [],
   "source": [
    "# 파일명 : 'data04_baseline.csv'\n",
    "# to_csv 함수 활용, index=False\n",
    "baseline_data.to_csv('data04_baseline.csv', index=False)"
   ]
  },
  {
   "cell_type": "code",
   "execution_count": null,
   "metadata": {},
   "outputs": [],
   "source": [
    "#[문제] 제대로 저장이 잘 되었는지 'data04_baseline.csv' 파일을 불러와 확인해보세요."
   ]
  },
  {
   "cell_type": "code",
   "execution_count": null,
   "metadata": {},
   "outputs": [],
   "source": [
    "pd.read_csv('data04_baseline.csv')"
   ]
  }
 ],
 "metadata": {
  "colab": {
   "provenance": [],
   "toc_visible": true
  },
  "kernelspec": {
   "display_name": "Python 3 (ipykernel)",
   "language": "python",
   "name": "python3"
  },
  "language_info": {
   "codemirror_mode": {
    "name": "ipython",
    "version": 3
   },
   "file_extension": ".py",
   "mimetype": "text/x-python",
   "name": "python",
   "nbconvert_exporter": "python",
   "pygments_lexer": "ipython3",
   "version": "3.9.13"
  }
 },
 "nbformat": 4,
 "nbformat_minor": 4
}
